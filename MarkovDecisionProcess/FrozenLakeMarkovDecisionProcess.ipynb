{
  "nbformat": 4,
  "nbformat_minor": 0,
  "metadata": {
    "colab": {
      "name": "FrozenLakeMarkovDecisionProcess.ipynb",
      "provenance": []
    },
    "kernelspec": {
      "name": "python3",
      "display_name": "Python 3"
    }
  },
  "cells": [
    {
      "cell_type": "code",
      "metadata": {
        "colab": {
          "base_uri": "https://localhost:8080/"
        },
        "id": "oNbky5oohTd5",
        "outputId": "c28a7070-fe97-443d-dbb0-3ad7f178c222"
      },
      "source": [
        "import gym\n",
        "import numpy as np\n",
        "\n",
        "def policy_iteration(environment, discount_factor=1.0, max_iterations=1e9):\n",
        "        # Start with a random policy\n",
        "        #num states x num actions / num actions\n",
        "        policy = np.ones([environment.nS, environment.nA]) / environment.nA\n",
        "        # Initialize counter of evaluated policies\n",
        "        evaluated_policies = 1\n",
        "        # Repeat until convergence or critical number of iterations reached\n",
        "        for i in range(int(max_iterations)):\n",
        "                stable_policy = True\n",
        "                # Evaluate current policy\n",
        "                V = policy_evaluation(policy, environment, discount_factor=discount_factor)\n",
        "                # Go through each state and try to improve actions that were taken (policy Improvement)\n",
        "                for state in range(environment.nS):\n",
        "                        # Choose the best action in a current state under current policy\n",
        "                        current_action = np.argmax(policy[state])\n",
        "                        # Look one step ahead and evaluate if current action is optimal\n",
        "                        # We will try every possible action in a current state\n",
        "                        action_value = one_step_lookahead(environment, state, V, discount_factor)\n",
        "                        # Select a better action\n",
        "                        best_action = np.argmax(action_value)\n",
        "                        # If action didn't change\n",
        "                        if current_action != best_action:\n",
        "                                stable_policy = True\n",
        "                                # Greedy policy update\n",
        "                                policy[state] = np.eye(environment.nA)[best_action]\n",
        "                evaluated_policies += 1\n",
        "                # If the algorithm converged and policy is not changing anymore, then return final policy and value function\n",
        "                if stable_policy:\n",
        "                        print(f'Evaluated {evaluated_policies} policies.')\n",
        "                        return policy, V\n",
        "                  \n",
        "def play_episodes(environment, n_episodes, policy):\n",
        "        wins = 0\n",
        "        total_reward = 0\n",
        "        for episode in range(n_episodes):\n",
        "                terminated = False\n",
        "                state = environment.reset()\n",
        "                while not terminated:\n",
        "                        # Select best action to perform in a current state\n",
        "                        action = np.argmax(policy[state])\n",
        "                        # Perform an action an observe how environment acted in response\n",
        "                        next_state, reward, terminated, info = environment.step(action)\n",
        "                        # Summarize total reward\n",
        "                        total_reward += reward\n",
        "                        # Update current state\n",
        "                        state = next_state\n",
        "                        # Calculate number of wins over episodes\n",
        "                        if terminated and reward == 1.0:\n",
        "                                wins += 1\n",
        "        average_reward = total_reward / n_episodes\n",
        "        return wins, total_reward, average_reward\n",
        "\n",
        "def value_iteration(environment, discount_factor=1.0, theta=1e-9, max_iterations=1e9):\n",
        "        # Initialize state-value function with zeros for each environment state\n",
        "        V = np.zeros(environment.nS)\n",
        "        for i in range(int(max_iterations)):\n",
        "                # Early stopping condition\n",
        "                delta = 0\n",
        "                # Update each state\n",
        "                for state in range(environment.nS):\n",
        "                        # Do a one-step lookahead to calculate state-action values\n",
        "                        action_value = one_step_lookahead(environment, state, V, discount_factor)\n",
        "                        # Select best action to perform based on the highest state-action value\n",
        "                        best_action_value = np.max(action_value)\n",
        "                        # Calculate change in value\n",
        "                        delta = max(delta, np.abs(V[state] - best_action_value))\n",
        "                        # Update the value function for current state\n",
        "                        V[state] = best_action_value\n",
        "                        # Check if we can stop\n",
        "                if delta < theta:\n",
        "                        print(f'Value-iteration converged at iteration#{i}.')\n",
        "                        break\n",
        "\n",
        "        # Create a deterministic policy using the optimal value function\n",
        "        policy = np.zeros([environment.nS, environment.nA])\n",
        "        for state in range(environment.nS):\n",
        "                # One step lookahead to find the best action for this state\n",
        "                action_value = one_step_lookahead(environment, state, V, discount_factor)\n",
        "                # Select best action based on the highest state-action value\n",
        "                best_action = np.argmax(action_value)\n",
        "                # Update the policy to perform a better action at a current state\n",
        "                policy[state, best_action] = 1.0\n",
        "        return policy, V\n",
        "\n",
        "def one_step_lookahead(environment, state, V, discount_factor):\n",
        "        action_values = np.zeros(environment.nA)\n",
        "        for action in range(environment.nA):\n",
        "                for probability, next_state, reward, terminated in environment.P[state][action]:\n",
        "                        action_values[action] += probability * (reward + discount_factor * V[next_state])\n",
        "        return action_values\n",
        "\n",
        "def policy_evaluation(policy, environment, discount_factor=1.0, theta=1e-9, max_iterations=1e9):\n",
        "        # Number of evaluation iterations\n",
        "        evaluation_iterations = 1\n",
        "        # Initialize a value function for each state as zero\n",
        "        V = np.zeros(environment.nS)\n",
        "        # Repeat until change in value is below the threshold\n",
        "        for i in range(int(max_iterations)):\n",
        "                # Initialize a change of value function as zero\n",
        "                delta = 0\n",
        "                # Iterate though each state\n",
        "                for state in range(environment.nS):\n",
        "                       # Initial a new value of current state\n",
        "                       v = 0\n",
        "                       # Try all possible actions which can be taken from this state\n",
        "                       for action, action_probability in enumerate(policy[state]):\n",
        "                             # Check how good next state will be\n",
        "                             for state_probability, next_state, reward, terminated in environment.P[state][action]:\n",
        "                                  # Calculate the expected value\n",
        "                                  v += action_probability * state_probability * (reward + discount_factor * V[next_state])\n",
        "                       \n",
        "                       # Calculate the absolute change of value function\n",
        "                       delta = max(delta, np.abs(V[state] - v))\n",
        "                       # Update value function\n",
        "                       V[state] = v\n",
        "                evaluation_iterations += 1\n",
        "                \n",
        "                # Terminate if value change is insignificant\n",
        "                if delta < theta:\n",
        "                        print(f'Policy evaluated in {evaluation_iterations} iterations.')\n",
        "                        return V\n",
        "\n",
        "# Number of episodes to play\n",
        "n_episodes = 8000\n",
        "# Functions to find best policy\n",
        "solvers = [('Policy Iteration', policy_iteration),\n",
        "           ('Value Iteration', value_iteration)]\n",
        "for iteration_name, iteration_func in solvers:\n",
        "        # Load a Frozen Lake environment\n",
        "        environment = gym.make('FrozenLake-v0')\n",
        "        #environment = gym.make('FrozenLake8x8-v0')\n",
        "        # Search for an optimal policy using policy iteration\n",
        "        policy, V = iteration_func(environment.env)\n",
        "        # Apply best policy to the real environment\n",
        "        wins, total_reward, average_reward = play_episodes(environment, n_episodes, policy)\n",
        "        print(f'{iteration_name} :: number of wins over {n_episodes} episodes = {wins}')\n",
        "        print(f'{iteration_name} :: average reward over {n_episodes} episodes = {average_reward} \\n\\n')"
      ],
      "execution_count": 11,
      "outputs": [
        {
          "output_type": "stream",
          "text": [
            "Policy evaluated in 66 iterations.\n",
            "Evaluated 2 policies.\n",
            "Policy Iteration :: number of wins over 8000 episodes = 5826\n",
            "Policy Iteration :: average reward over 8000 episodes = 0.72825 \n",
            "\n",
            "\n",
            "Value-iteration converged at iteration#523.\n",
            "Value Iteration :: number of wins over 8000 episodes = 5913\n",
            "Value Iteration :: average reward over 8000 episodes = 0.739125 \n",
            "\n",
            "\n"
          ],
          "name": "stdout"
        }
      ]
    },
    {
      "cell_type": "code",
      "metadata": {
        "colab": {
          "base_uri": "https://localhost:8080/"
        },
        "id": "LQF4A2zqhzNZ",
        "outputId": "302aaca0-74d8-40a0-c1c2-84f299581b5d"
      },
      "source": [
        "import numpy as np\n",
        "import gym\n",
        "import random\n",
        "\n",
        "env = gym.make(\"FrozenLake-v0\")\n",
        "\n",
        "action_size = env.action_space.n\n",
        "action_size"
      ],
      "execution_count": 25,
      "outputs": [
        {
          "output_type": "execute_result",
          "data": {
            "text/plain": [
              "4"
            ]
          },
          "metadata": {
            "tags": []
          },
          "execution_count": 25
        }
      ]
    },
    {
      "cell_type": "code",
      "metadata": {
        "colab": {
          "base_uri": "https://localhost:8080/"
        },
        "id": "2WOJ-VGnh6_k",
        "outputId": "e1428867-1a7a-4c1b-b1bb-defe45c1f8e1"
      },
      "source": [
        "state_size = env.observation_space.n\n",
        "state_size"
      ],
      "execution_count": 26,
      "outputs": [
        {
          "output_type": "execute_result",
          "data": {
            "text/plain": [
              "16"
            ]
          },
          "metadata": {
            "tags": []
          },
          "execution_count": 26
        }
      ]
    },
    {
      "cell_type": "code",
      "metadata": {
        "colab": {
          "base_uri": "https://localhost:8080/"
        },
        "id": "XtVIm3_YkJXH",
        "outputId": "0a7a741c-56b1-4a7a-e8f9-e7b5fe4d3674"
      },
      "source": [
        "qtable = np.zeros((state_size, action_size)\n",
        "# grid of zeros created based on above parameters"
      ],
      "execution_count": 27,
      "outputs": [
        {
          "output_type": "stream",
          "text": [
            "[[0. 0. 0. 0.]\n",
            " [0. 0. 0. 0.]\n",
            " [0. 0. 0. 0.]\n",
            " [0. 0. 0. 0.]\n",
            " [0. 0. 0. 0.]\n",
            " [0. 0. 0. 0.]\n",
            " [0. 0. 0. 0.]\n",
            " [0. 0. 0. 0.]\n",
            " [0. 0. 0. 0.]\n",
            " [0. 0. 0. 0.]\n",
            " [0. 0. 0. 0.]\n",
            " [0. 0. 0. 0.]\n",
            " [0. 0. 0. 0.]\n",
            " [0. 0. 0. 0.]\n",
            " [0. 0. 0. 0.]\n",
            " [0. 0. 0. 0.]]\n"
          ],
          "name": "stdout"
        }
      ]
    },
    {
      "cell_type": "code",
      "metadata": {
        "colab": {
          "base_uri": "https://localhost:8080/"
        },
        "id": "QXlhuJCJh9c-",
        "outputId": "0d609f6f-f176-4d1e-9496-c524aaae5281"
      },
      "source": [
        "total_episodes = 15000        # Total episodes\n",
        "learning_rate = 0.8           # Learning rate\n",
        "max_steps = 99                # Max steps per episode\n",
        "gamma = 0.95                  # Discounting rate\n",
        "\n",
        "#Exploration parameters\n",
        "epsilon = 1.0                 # Exploration rate\n",
        "max_epsilon = 1.0             # Exploration probability at start\n",
        "min_epsilon = 0.01            # Minimum exploration probability \n",
        "decay_rate = 0.005             # Exponential decay rate for exploration prob\n",
        "\n",
        "# List of rewards\n",
        "rewards = []\n",
        "\n",
        "# 2 For life or until learning is stopped\n",
        "for episode in range(total_episodes):\n",
        "    # Reset the environment\n",
        "    state = env.reset()\n",
        "    step = 0\n",
        "    done = False\n",
        "    total_rewards = 0\n",
        "    \n",
        "    for step in range(max_steps):\n",
        "        # 3. Choose an action a in the current world state (s)\n",
        "        ## First we randomize a number\n",
        "        exp_exp_tradeoff = random.uniform(0, 1)\n",
        "        \n",
        "        ## If this number > greater than epsilon --> exploitation (taking the biggest Q value for this state)\n",
        "        if exp_exp_tradeoff > epsilon:\n",
        "            action = np.argmax(qtable[state,:])\n",
        "\n",
        "        # Else doing a random choice --> exploration\n",
        "        else:\n",
        "            action = env.action_space.sample()\n",
        "\n",
        "        # Take the action (a) and observe the outcome state(s') and reward (r)\n",
        "        new_state, reward, done, info = env.step(action)\n",
        "\n",
        "        # Update Q(s,a):= Q(s,a) + lr [R(s,a) + gamma * max Q(s',a') - Q(s,a)]\n",
        "        # qtable[new_state,:] : all the actions we can take from new state\n",
        "        qtable[state, action] = qtable[state, action] + learning_rate * (reward + gamma * np.max(qtable[new_state, :]) - qtable[state, action])\n",
        "        \n",
        "        total_rewards += reward\n",
        "        \n",
        "        # Our new state is state\n",
        "        state = new_state\n",
        "        \n",
        "        # If done (if we're dead) : finish episode\n",
        "        if done == True: \n",
        "            break\n",
        "        \n",
        "    # Reduce epsilon (because we need less and less exploration)\n",
        "    epsilon = min_epsilon + (max_epsilon - min_epsilon)*np.exp(-decay_rate*episode) \n",
        "    rewards.append(total_rewards)\n",
        "\n",
        "print (\"Score over time: \" +  str(sum(rewards)/total_episodes))\n",
        "print(qtable)\n",
        "# now the grid of zeros is populated; resutls below:"
      ],
      "execution_count": 28,
      "outputs": [
        {
          "output_type": "stream",
          "text": [
            "Score over time: 0.4766\n",
            "[[2.89226057e-01 4.61956579e-02 4.63692746e-02 4.99646258e-02]\n",
            " [1.60161779e-02 1.26870457e-02 6.91812252e-03 3.45610715e-02]\n",
            " [1.22920388e-02 1.69185040e-02 2.80237468e-02 3.34005182e-02]\n",
            " [6.59538089e-03 5.28090451e-03 1.78168142e-03 2.88177773e-02]\n",
            " [3.22772240e-01 2.81679809e-04 2.89757920e-03 2.43237378e-02]\n",
            " [0.00000000e+00 0.00000000e+00 0.00000000e+00 0.00000000e+00]\n",
            " [1.67701978e-04 5.91128962e-05 4.94307875e-05 2.15224833e-04]\n",
            " [0.00000000e+00 0.00000000e+00 0.00000000e+00 0.00000000e+00]\n",
            " [2.01261246e-02 5.49170633e-02 5.90532123e-03 3.58507110e-01]\n",
            " [2.94238797e-03 4.81598016e-01 2.00472406e-02 3.74003296e-02]\n",
            " [1.03779731e-01 6.91467001e-03 6.71975598e-04 8.83758704e-05]\n",
            " [0.00000000e+00 0.00000000e+00 0.00000000e+00 0.00000000e+00]\n",
            " [0.00000000e+00 0.00000000e+00 0.00000000e+00 0.00000000e+00]\n",
            " [1.01883789e-01 1.18008962e-01 7.65342686e-01 1.53448038e-01]\n",
            " [1.16577007e-01 9.73367478e-01 1.60677338e-01 2.22694752e-01]\n",
            " [0.00000000e+00 0.00000000e+00 0.00000000e+00 0.00000000e+00]]\n"
          ],
          "name": "stdout"
        }
      ]
    },
    {
      "cell_type": "code",
      "metadata": {
        "colab": {
          "base_uri": "https://localhost:8080/"
        },
        "id": "P6QcyLr-jC4g",
        "outputId": "73803ca7-4865-4f66-b5af-dcf0d0a7dd06"
      },
      "source": [
        "env.reset()\n",
        "\n",
        "# max_steps = 99                # Max steps per episode\n",
        "\n",
        "for episode in range(10):\n",
        "    state = env.reset()\n",
        "    step = 0\n",
        "    done = False\n",
        "    print(\"****************************************************\")\n",
        "    print(\"EPISODE \", episode)\n",
        "\n",
        "    for step in range(max_steps):\n",
        "        \n",
        "        # Take the action (index) that have the maximum expected future reward given that state\n",
        "        action = np.argmax(qtable[state,:])\n",
        "        \n",
        "        new_state, reward, done, info = env.step(action)\n",
        "        \n",
        "        if done:\n",
        "            # Here, we decide to only print the last state (to see if our agent is on the goal or fall into an hole)\n",
        "            env.render()\n",
        "            \n",
        "            # We print the number of step it took.\n",
        "            print(\"Number of steps\", step)\n",
        "            break\n",
        "        state = new_state\n",
        "env.close()"
      ],
      "execution_count": 29,
      "outputs": [
        {
          "output_type": "stream",
          "text": [
            "****************************************************\n",
            "EPISODE  0\n",
            "  (Down)\n",
            "SFFF\n",
            "FHFH\n",
            "FFFH\n",
            "HFF\u001b[41mG\u001b[0m\n",
            "Number of steps 17\n",
            "****************************************************\n",
            "EPISODE  1\n",
            "  (Down)\n",
            "SFFF\n",
            "FHFH\n",
            "FFFH\n",
            "HFF\u001b[41mG\u001b[0m\n",
            "Number of steps 30\n",
            "****************************************************\n",
            "EPISODE  2\n",
            "  (Down)\n",
            "SFFF\n",
            "FHFH\n",
            "FFFH\n",
            "HFF\u001b[41mG\u001b[0m\n",
            "Number of steps 36\n",
            "****************************************************\n",
            "EPISODE  3\n",
            "  (Down)\n",
            "SFFF\n",
            "FHFH\n",
            "FFFH\n",
            "HFF\u001b[41mG\u001b[0m\n",
            "Number of steps 16\n",
            "****************************************************\n",
            "EPISODE  4\n",
            "  (Down)\n",
            "SFFF\n",
            "FHFH\n",
            "FFFH\n",
            "HFF\u001b[41mG\u001b[0m\n",
            "Number of steps 48\n",
            "****************************************************\n",
            "EPISODE  5\n",
            "  (Down)\n",
            "SFFF\n",
            "FHFH\n",
            "FFFH\n",
            "HFF\u001b[41mG\u001b[0m\n",
            "Number of steps 29\n",
            "****************************************************\n",
            "EPISODE  6\n",
            "  (Down)\n",
            "SFFF\n",
            "FHFH\n",
            "FFFH\n",
            "HFF\u001b[41mG\u001b[0m\n",
            "Number of steps 44\n",
            "****************************************************\n",
            "EPISODE  7\n",
            "  (Up)\n",
            "SFFF\n",
            "FHF\u001b[41mH\u001b[0m\n",
            "FFFH\n",
            "HFFG\n",
            "Number of steps 31\n",
            "****************************************************\n",
            "EPISODE  8\n",
            "  (Down)\n",
            "SFFF\n",
            "FHFH\n",
            "FFFH\n",
            "HFF\u001b[41mG\u001b[0m\n",
            "Number of steps 73\n",
            "****************************************************\n",
            "EPISODE  9\n",
            "  (Down)\n",
            "SFFF\n",
            "FHFH\n",
            "FFFH\n",
            "HFF\u001b[41mG\u001b[0m\n",
            "Number of steps 8\n"
          ],
          "name": "stdout"
        }
      ]
    }
  ]
}