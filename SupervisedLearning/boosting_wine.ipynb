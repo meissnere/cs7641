{
  "nbformat": 4,
  "nbformat_minor": 0,
  "metadata": {
    "colab": {
      "name": "boosting_wine.ipynb",
      "provenance": []
    },
    "kernelspec": {
      "name": "python3",
      "display_name": "Python 3"
    }
  },
  "cells": [
    {
      "cell_type": "code",
      "metadata": {
        "id": "k_4MxFamTQ3B",
        "colab_type": "code",
        "colab": {
          "base_uri": "https://localhost:8080/",
          "height": 227
        },
        "outputId": "1a291f34-c7cb-463c-8762-f79c8f74c76e"
      },
      "source": [
        "import pandas as pd\n",
        "import numpy as np\n",
        "from sklearn.model_selection import train_test_split\n",
        "from sklearn.metrics import median_absolute_error, mean_absolute_error\n",
        "from sklearn.feature_extraction.text import TfidfVectorizer\n",
        "from sklearn.decomposition import TruncatedSVD\n",
        "from nltk.tokenize import RegexpTokenizer\n",
        "import xgboost as xgb\n",
        "import seaborn as sns\n",
        "import matplotlib.pyplot as plt\n",
        "\n",
        "wine = pd.read_csv('winemag-data_first150k.csv', index_col=0, encoding=\"utf-8\", engine=\"python\")\n",
        "wine = wine[['description', 'price', 'points']]\n",
        "wine.sample(3)\n",
        "\n",
        "def make_lower_case(text):\n",
        "    return text.lower()\n",
        "\n",
        "def remove_punctuation(text):\n",
        "    tokenizer = RegexpTokenizer(r'\\w+')\n",
        "    text = tokenizer.tokenize(text)\n",
        "    text = \" \".join(text)\n",
        "    return text\n",
        "\n",
        "wine[\"description\"] = wine[\"description\"].str.replace('\\d+', '')\n",
        "wine[\"description\"] = wine.description.apply(func=remove_punctuation)\n",
        "wine[\"description\"] = wine.description.apply(func=make_lower_case)\n",
        "\n",
        "#Train tfidf and svd\n",
        "tf = TfidfVectorizer(analyzer='word', \n",
        "                     min_df=10,\n",
        "                     ngram_range=(1, 2),\n",
        "                     stop_words='english')\n",
        "svd = TruncatedSVD(n_components=5)\n",
        "\n",
        "#Fit tfidf and svd, and transform training data\n",
        "tfidf_matrix = tf.fit_transform(wine.description)\n",
        "lsa_features = pd.DataFrame(svd.fit_transform(tfidf_matrix))\n",
        "\n",
        "#Creat meaningful column names\n",
        "collist = map(str, range(0, 5))\n",
        "collist = [\"latent_description_\" + s for s in collist]\n",
        "lsa_features.columns = collist\n",
        "lsa_features.head()\n",
        "\n",
        "#Make atest train split\n",
        "X = pd.concat([lsa_features, wine[\"price\"]], axis=1)\n",
        "y = wine[\"points\"]\n",
        "X_train, X_test, y_train, y_test = train_test_split(X, y, test_size=0.3)\n",
        "\n",
        "#Format data\n",
        "dtrain = xgb.DMatrix(X_train, label=y_train)\n",
        "dtest = xgb.DMatrix(X_test, label=y_test)\n",
        "\n",
        "#Set xgboost parameters\n",
        "param = {'max_depth': 3, 'eta': 1, 'subsample':0.5, 'alpha':1}\n",
        "param['nthread'] = 4\n",
        "param['eval_metric'] = 'mae'\n",
        "param['objective'] = 'reg:linear'\n",
        "param['silent'] = 1\n",
        "evallist = [(dtrain, 'train')]\n",
        "num_round = 10\n",
        "\n",
        "#Train model\n",
        "bst = xgb.train(param, dtrain, num_round, evallist, early_stopping_rounds=10)\n",
        "\n",
        "pred = pd.DataFrame(y_test.copy())\n",
        "pred[\"prediction\"] = bst.predict(dtest, ntree_limit=bst.best_ntree_limit)\n",
        "\n",
        "mean_ae = np.round(mean_absolute_error(y_true=pred[\"points\"], y_pred=pred[\"prediction\"]),2)\n",
        "median_ae = np.round(median_absolute_error(y_true=pred[\"points\"], y_pred=pred[\"prediction\"]),2)\n",
        "print (\"Mean Absolute Error: {} points\".format(mean_ae))\n",
        "\n",
        "\n",
        "xgb.plot_importance(bst,max_num_features=15)"
      ],
      "execution_count": 13,
      "outputs": [
        {
          "output_type": "stream",
          "text": [
            "[0]\ttrain-mae:2.12114\n",
            "Will train until train-mae hasn't improved in 10 rounds.\n",
            "[1]\ttrain-mae:2.02557\n",
            "[2]\ttrain-mae:1.96304\n",
            "[3]\ttrain-mae:1.93751\n",
            "[4]\ttrain-mae:1.9197\n",
            "[5]\ttrain-mae:1.90718\n",
            "[6]\ttrain-mae:1.89269\n",
            "[7]\ttrain-mae:1.88126\n",
            "[8]\ttrain-mae:1.87098\n",
            "[9]\ttrain-mae:1.86809\n",
            "Mean Absolute Error: 1.88 points\n"
          ],
          "name": "stdout"
        }
      ]
    }
  ]
}