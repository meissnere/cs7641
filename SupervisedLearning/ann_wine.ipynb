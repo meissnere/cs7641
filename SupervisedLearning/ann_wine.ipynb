{
  "nbformat": 4,
  "nbformat_minor": 0,
  "metadata": {
    "colab": {
      "name": "ann_wine.ipynb",
      "provenance": []
    },
    "kernelspec": {
      "name": "python3",
      "display_name": "Python 3"
    }
  },
  "cells": [
    {
      "cell_type": "code",
      "metadata": {
        "id": "UCkYxR7YZ94X",
        "colab_type": "code",
        "colab": {
          "base_uri": "https://localhost:8080/",
          "height": 238
        },
        "outputId": "f283772a-b520-4c98-b750-1ff590c8a932"
      },
      "source": [
        "import tensorflow as tf\n",
        "import numpy as np\n",
        "import pandas as pd\n",
        "from sklearn.model_selection import train_test_split\n",
        "from sklearn.preprocessing import MinMaxScaler\n",
        "import matplotlib.pyplot as plt\n",
        "%matplotlib inline\n",
        "\n",
        "colnames = ['Class','Alcohol','Malic acid','Ash','Alcalinity of ash','Magnesium','Total phenols','Flavanoids','Nonflavanoid phenols','Proanthocyanins','Color intensity','Hue','dilute','Proline']\n",
        "\n",
        "df = pd.read_csv('wine.data.txt',names = colnames,index_col = False)\n",
        "\n",
        "df.head()\n",
        "\n",
        "df.isnull().sum()\n",
        "\n",
        "df = pd.get_dummies(df, columns=['Class'])\n",
        "\n",
        "labels = df.loc[:,['Class_1','Class_2','Class_3']]\n",
        "\n",
        "labels = labels.values\n",
        "\n",
        "features = df.drop(['Class_1','Class_2','Class_3','Ash'],axis = 1)\n",
        "\n",
        "features = features.values\n",
        "\n",
        "train_x,test_x,train_y,test_y = train_test_split(features,labels)\n",
        "\n",
        "scale = MinMaxScaler(feature_range = (0,1))\n",
        "\n",
        "train_x = scale.fit_transform(train_x)\n",
        "test_x = scale.fit_transform(test_x)\n",
        "\n",
        "X = tf.placeholder(tf.float32,[None,12]) # Since we have 12 features as input\n",
        "y = tf.placeholder(tf.float32,[None,3])  # Since we have 3 outut labels\n",
        "\n",
        "weights1 = tf.get_variable(\"weights1\",shape=[12,80],initializer = tf.contrib.layers.xavier_initializer())\n",
        "biases1 = tf.get_variable(\"biases1\",shape = [80],initializer = tf.zeros_initializer)\n",
        "layer1out = tf.nn.relu(tf.matmul(X,weights1)+biases1)\n",
        "\n",
        "weights2 = tf.get_variable(\"weights2\",shape=[80,50],initializer = tf.contrib.layers.xavier_initializer())\n",
        "biases2 = tf.get_variable(\"biases2\",shape = [50],initializer = tf.zeros_initializer)\n",
        "layer2out = tf.nn.relu(tf.matmul(layer1out,weights2)+biases2)\n",
        "\n",
        "weights3 = tf.get_variable(\"weights3\",shape=[50,3],initializer = tf.contrib.layers.xavier_initializer())\n",
        "biases3 = tf.get_variable(\"biases3\",shape = [3],initializer = tf.zeros_initializer)\n",
        "prediction =tf.matmul(layer2out,weights3)+biases3"
      ],
      "execution_count": 10,
      "outputs": [
        {
          "output_type": "error",
          "ename": "AttributeError",
          "evalue": "ignored",
          "traceback": [
            "\u001b[0;31m---------------------------------------------------------------------------\u001b[0m",
            "\u001b[0;31mAttributeError\u001b[0m                            Traceback (most recent call last)",
            "\u001b[0;32m<ipython-input-10-24d3b133ca74>\u001b[0m in \u001b[0;36m<module>\u001b[0;34m()\u001b[0m\n\u001b[1;32m     32\u001b[0m \u001b[0mtest_x\u001b[0m \u001b[0;34m=\u001b[0m \u001b[0mscale\u001b[0m\u001b[0;34m.\u001b[0m\u001b[0mfit_transform\u001b[0m\u001b[0;34m(\u001b[0m\u001b[0mtest_x\u001b[0m\u001b[0;34m)\u001b[0m\u001b[0;34m\u001b[0m\u001b[0;34m\u001b[0m\u001b[0m\n\u001b[1;32m     33\u001b[0m \u001b[0;34m\u001b[0m\u001b[0m\n\u001b[0;32m---> 34\u001b[0;31m \u001b[0mX\u001b[0m \u001b[0;34m=\u001b[0m \u001b[0mtf\u001b[0m\u001b[0;34m.\u001b[0m\u001b[0mplaceholder\u001b[0m\u001b[0;34m(\u001b[0m\u001b[0mtf\u001b[0m\u001b[0;34m.\u001b[0m\u001b[0mfloat32\u001b[0m\u001b[0;34m,\u001b[0m\u001b[0;34m[\u001b[0m\u001b[0;32mNone\u001b[0m\u001b[0;34m,\u001b[0m\u001b[0;36m12\u001b[0m\u001b[0;34m]\u001b[0m\u001b[0;34m)\u001b[0m \u001b[0;31m# Since we have 12 features as input\u001b[0m\u001b[0;34m\u001b[0m\u001b[0;34m\u001b[0m\u001b[0m\n\u001b[0m\u001b[1;32m     35\u001b[0m \u001b[0my\u001b[0m \u001b[0;34m=\u001b[0m \u001b[0mtf\u001b[0m\u001b[0;34m.\u001b[0m\u001b[0mplaceholder\u001b[0m\u001b[0;34m(\u001b[0m\u001b[0mtf\u001b[0m\u001b[0;34m.\u001b[0m\u001b[0mfloat32\u001b[0m\u001b[0;34m,\u001b[0m\u001b[0;34m[\u001b[0m\u001b[0;32mNone\u001b[0m\u001b[0;34m,\u001b[0m\u001b[0;36m3\u001b[0m\u001b[0;34m]\u001b[0m\u001b[0;34m)\u001b[0m  \u001b[0;31m# Since we have 3 outut labels\u001b[0m\u001b[0;34m\u001b[0m\u001b[0;34m\u001b[0m\u001b[0m\n\u001b[1;32m     36\u001b[0m \u001b[0;34m\u001b[0m\u001b[0m\n",
            "\u001b[0;31mAttributeError\u001b[0m: module 'tensorflow' has no attribute 'placeholder'"
          ]
        }
      ]
    }
  ]
}